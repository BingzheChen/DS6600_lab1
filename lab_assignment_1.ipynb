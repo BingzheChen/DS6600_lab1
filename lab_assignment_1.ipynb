{
 "cells": [
  {
   "cell_type": "markdown",
   "id": "45b2c6fe",
   "metadata": {},
   "source": [
    "## Github URL\n",
    "https://github.com/BingzheChen/DS6600_lab1.git\n",
    "\n",
    "## question 2"
   ]
  },
  {
   "cell_type": "raw",
   "id": "3681aa6c-957e-413a-81b3-97badd7df16d",
   "metadata": {},
   "source": [
    "[[source]]\n",
    "url = \"https://pypi.org/simple\"\n",
    "verify_ssl = true\n",
    "name = \"pypi\"\n",
    "\n",
    "[packages]\n",
    "numpy = \"==1.25.2\"\n",
    "pandas = \"==2.0.3\"\n",
    "matplotlib = \"==3.7.2\"\n",
    "requests = \"==2.31.0\"\n",
    "jupyterlab = \"==4.0.5\"\n",
    "ipykernel = \"==6.25.1\"\n",
    "\n",
    "[dev-packages]\n",
    "\n",
    "[requires]\n",
    "python_version = \"3.11\"\n",
    "python_full_version = \"3.11.4\"\n"
   ]
  },
  {
   "cell_type": "code",
   "execution_count": 1,
   "id": "788ece23-acf4-4ec4-a366-078a5edacdc7",
   "metadata": {},
   "outputs": [
    {
     "name": "stdout",
     "output_type": "stream",
     "text": [
      "Python 3.11.4\n"
     ]
    }
   ],
   "source": [
    "!python --version"
   ]
  },
  {
   "cell_type": "code",
   "execution_count": 2,
   "id": "1ced7456",
   "metadata": {},
   "outputs": [],
   "source": [
    "import numpy as np\n",
    "import pandas as pd\n",
    "import matplotlib\n",
    "import requests"
   ]
  },
  {
   "cell_type": "code",
   "execution_count": 3,
   "id": "30d88557",
   "metadata": {},
   "outputs": [
    {
     "ename": "ModuleNotFoundError",
     "evalue": "No module named 'sklearn'",
     "output_type": "error",
     "traceback": [
      "\u001b[0;31m---------------------------------------------------------------------------\u001b[0m",
      "\u001b[0;31mModuleNotFoundError\u001b[0m                       Traceback (most recent call last)",
      "Cell \u001b[0;32mIn[3], line 1\u001b[0m\n\u001b[0;32m----> 1\u001b[0m \u001b[38;5;28;01mimport\u001b[39;00m \u001b[38;5;21;01msklearn\u001b[39;00m\n",
      "\u001b[0;31mModuleNotFoundError\u001b[0m: No module named 'sklearn'"
     ]
    }
   ],
   "source": [
    "import sklearn"
   ]
  },
  {
   "cell_type": "markdown",
   "id": "a9d62a0c",
   "metadata": {},
   "source": [
    "## question 3\n",
    "\n",
    "### a. Meals on Wheels\n",
    "\n",
    "For this task, a virtual machine is best suited because:\n",
    "\n",
    "It offers full isolation for each chapter, ensuring their databases and apps are kept separate. It allows consistent environments and can handle large resource needs.\n",
    "\n",
    "Containers offer isolation but are lighter-weight. However, they don't provide as much resource isolation or control, which could be critical for large databases and different configurations.\n",
    "Virtual Environments are too limited, as they only manage dependencies within a Python project and don’t isolate databases or apps.\n",
    "Global Environment lacks any isolation, making it unsuitable for multiple chapters with differing needs.\n",
    "\n",
    "### b. The Legal Aid Justice Center\n",
    "\n",
    "For this task, a virtual environment is best suited because:\n",
    "\n",
    "It allows us to isolate and manage the dependencies needed for cleaning the data without interfering with the global environment of our computer.\n",
    "This setup is lightweight, as we only need to process and generate the report locally, not manage infrastructure or deploy an application.\n",
    "\n",
    "Virtual Machines and Containers are overkill, as they provide full isolation and resource management unnecessary for simple data cleaning.\n",
    "Global Environment lacks isolation, risking conflicts with existing libraries or tools.\n",
    "\n",
    "### c. Save the Children\n",
    "\n",
    "For this task, a container is best suited because:\n",
    "\n",
    "Containers allow us to package the predictive model and all dependencies, including the specific Ubuntu Linux environment and image processing software. This ensures consistency across different systems and users, regardless of their operating system.\n",
    "Containers are lightweight, portable, and easy to deploy, making them ideal for distributing the model to multiple people working in different locations.\n",
    "\n",
    "Virtual Machines provide isolation but are heavier in terms of resource usage and slower to start, which is overkill.\n",
    "A virtual environment only manages Python dependencies and cannot ensure compatibility with the required Ubuntu-specific software.\n",
    "The global environment would make it hard to manage complex dependencies and ensure compatibility across different systems.\n",
    "\n",
    "### d. Python version 4\n",
    "\n",
    "For this task, a virtual environment is best suited because:\n",
    "\n",
    "A virtual environment isolates our current project’s dependencies, including Python 3, ensuring that our code continues to work as intended without being affected by the Python 4 update.\n",
    "We can create multiple virtual environments, one for Python 3 and another for Python 4 (in Swedish), allowing us to switch between versions seamlessly as needed for different projects.\n",
    "\n",
    "Containers could work but would be overkill, as we don't need full system isolation, just version control for Python.\n",
    "A virtual machine would provide even more isolation but would be resource-intensive and unnecessary for simply managing Python versions.\n",
    "Using the global environment could risk breaking our Python 3 projects when we upgrade to Python 4."
   ]
  }
 ],
 "metadata": {
  "kernelspec": {
   "display_name": "Python 3 (ipykernel)",
   "language": "python",
   "name": "python3"
  },
  "language_info": {
   "codemirror_mode": {
    "name": "ipython",
    "version": 3
   },
   "file_extension": ".py",
   "mimetype": "text/x-python",
   "name": "python",
   "nbconvert_exporter": "python",
   "pygments_lexer": "ipython3",
   "version": "3.11.4"
  }
 },
 "nbformat": 4,
 "nbformat_minor": 5
}

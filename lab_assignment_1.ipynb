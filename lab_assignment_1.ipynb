{
 "cells": [
  {
   "cell_type": "markdown",
   "id": "45b2c6fe",
   "metadata": {},
   "source": [
    "## Github URL\n",
    "https://github.com/BingzheChen/DS6600_lab1.git\n",
    "\n",
    "## question 2"
   ]
  },
  {
   "cell_type": "raw",
   "id": "3681aa6c-957e-413a-81b3-97badd7df16d",
   "metadata": {},
   "source": [
    "[[source]]\n",
    "url = \"https://pypi.org/simple\"\n",
    "verify_ssl = true\n",
    "name = \"pypi\"\n",
    "\n",
    "[packages]\n",
    "numpy = \"==1.25.2\"\n",
    "pandas = \"==2.0.3\"\n",
    "matplotlib = \"==3.7.2\"\n",
    "requests = \"==2.31.0\"\n",
    "jupyterlab = \"==4.0.5\"\n",
    "ipykernel = \"==6.25.1\"\n",
    "\n",
    "[dev-packages]\n",
    "\n",
    "[requires]\n",
    "python_version = \"3.11\"\n",
    "python_full_version = \"3.11.4\"\n"
   ]
  },
  {
   "cell_type": "code",
   "execution_count": 1,
   "id": "788ece23-acf4-4ec4-a366-078a5edacdc7",
   "metadata": {},
   "outputs": [
    {
     "name": "stdout",
     "output_type": "stream",
     "text": [
      "Python 3.11.4\n"
     ]
    }
   ],
   "source": [
    "!python --version"
   ]
  },
  {
   "cell_type": "code",
   "execution_count": 2,
   "id": "1ced7456",
   "metadata": {},
   "outputs": [],
   "source": [
    "import numpy as np\n",
    "import pandas as pd\n",
    "import matplotlib\n",
    "import requests"
   ]
  },
  {
   "cell_type": "code",
   "execution_count": 3,
   "id": "30d88557",
   "metadata": {},
   "outputs": [
    {
     "ename": "ModuleNotFoundError",
     "evalue": "No module named 'sklearn'",
     "output_type": "error",
     "traceback": [
      "\u001b[0;31m---------------------------------------------------------------------------\u001b[0m",
      "\u001b[0;31mModuleNotFoundError\u001b[0m                       Traceback (most recent call last)",
      "Cell \u001b[0;32mIn[3], line 1\u001b[0m\n\u001b[0;32m----> 1\u001b[0m \u001b[38;5;28;01mimport\u001b[39;00m \u001b[38;5;21;01msklearn\u001b[39;00m\n",
      "\u001b[0;31mModuleNotFoundError\u001b[0m: No module named 'sklearn'"
     ]
    }
   ],
   "source": [
    "import sklearn"
   ]
  },
  {
   "cell_type": "markdown",
   "id": "a9d62a0c",
   "metadata": {},
   "source": [
    "## question 3\n",
    "\n",
    "### a. Meals on Wheels\n",
    "\n",
    "For this task, a virtual machine is best suited because:\n",
    "\n",
    "It offers full isolation for each chapter, ensuring their databases and apps are kept separate. It allows consistent environments and can handle large resource needs.\n",
    "\n",
    "Containers offer isolation but are lighter-weight. However, they don't provide as much resource isolation or control, which could be critical for large databases and different configurations.\n",
    "Virtual Environments are too limited, as they only manage dependencies within a Python project and don’t isolate databases or apps.\n",
    "Global Environment lacks any isolation, making it unsuitable for multiple chapters with differing needs.\n",
    "\n",
    "### b. The Legal Aid Justice Center\n",
    "\n",
    "For this task, a virtual environment is best suited because:\n",
    "\n",
    "It allows us to isolate and manage the dependencies needed for cleaning the data without interfering with the global environment of our computer.\n",
    "This setup is lightweight, as we only need to process and generate the report locally, not manage infrastructure or deploy an application.\n",
    "\n",
    "Virtual Machines and Containers are overkill, as they provide full isolation and resource management unnecessary for simple data cleaning.\n",
    "Global Environment lacks isolation, risking conflicts with existing libraries or tools.\n",
    "\n",
    "### c. Save the Children\n",
    "\n",
    "For this task, a container is best suited because:\n",
    "\n",
    "Containers allow us to package the predictive model and all dependencies, including the specific Ubuntu Linux environment and image processing software. This ensures consistency across different systems and users, regardless of their operating system.\n",
    "Containers are lightweight, portable, and easy to deploy, making them ideal for distributing the model to multiple people working in different locations.\n",
    "\n",
    "Virtual Machines provide isolation but are heavier in terms of resource usage and slower to start, which is overkill.\n",
    "A virtual environment only manages Python dependencies and cannot ensure compatibility with the required Ubuntu-specific software.\n",
    "The global environment would make it hard to manage complex dependencies and ensure compatibility across different systems.\n",
    "\n",
    "### d. Python version 4\n",
    "\n",
    "For this task, a virtual environment is best suited because:\n",
    "\n",
    "A virtual environment isolates our current project’s dependencies, including Python 3, ensuring that our code continues to work as intended without being affected by the Python 4 update.\n",
    "We can create multiple virtual environments, one for Python 3 and another for Python 4 (in Swedish), allowing us to switch between versions seamlessly as needed for different projects.\n",
    "\n",
    "Containers could work but would be overkill, as we don't need full system isolation, just version control for Python.\n",
    "A virtual machine would provide even more isolation but would be resource-intensive and unnecessary for simply managing Python versions.\n",
    "Using the global environment could risk breaking our Python 3 projects when we upgrade to Python 4."
   ]
  },
  {
   "cell_type": "markdown",
   "id": "18bb5758",
   "metadata": {},
   "source": [
    "## question 4\n",
    "\n",
    "### a. Dockerfile\n",
    "\n",
    "```python\n",
    "# syntax=docker/dockerfile:1\n",
    "\n",
    "FROM ubuntu:latest\n",
    "\n",
    "WORKDIR /DS6600_lab1\n",
    "\n",
    "RUN apt-get update && apt-get install -y python3\n",
    "\n",
    "CMD [\"python3\"]\n",
    "```\n",
    "\n",
    "### b. build the image\n",
    "\n",
    "[+] Building 15.9s (11/11) FINISHED                                                                                                docker:desktop-linux\n",
    " => [internal] load build definition from Dockerfile                                                                                               0.0s\n",
    " => => transferring dockerfile: 176B                                                                                                               0.0s\n",
    " => resolve image config for docker-image://docker.io/docker/dockerfile:1                                                                          1.2s\n",
    " => [auth] docker/dockerfile:pull token for registry-1.docker.io                                                                                   0.0s\n",
    " => CACHED docker-image://docker.io/docker/dockerfile:1@sha256:865e5dd094beca432e8c0a1d5e1c465db5f998dca4e439981029b3b81fb39ed5                    0.0s\n",
    " => [internal] load metadata for docker.io/library/ubuntu:latest                                                                                   0.8s\n",
    " => [auth] library/ubuntu:pull token for registry-1.docker.io                                                                                      0.0s\n",
    " => [internal] load .dockerignore                                                                                                                  0.0s\n",
    " => => transferring context: 2B                                                                                                                    0.0s\n",
    " => [1/3] FROM docker.io/library/ubuntu:latest@sha256:dfc10878be8d8fc9c61cbff33166cb1d1fe44391539243703c72766894fa834a                             2.5s\n",
    " => => resolve docker.io/library/ubuntu:latest@sha256:dfc10878be8d8fc9c61cbff33166cb1d1fe44391539243703c72766894fa834a                             0.0s\n",
    " => => sha256:dfc10878be8d8fc9c61cbff33166cb1d1fe44391539243703c72766894fa834a 1.34kB / 1.34kB                                                     0.0s\n",
    " => => sha256:d3a9954d48359352af02b5824c4b3c883b4361d355022bec7239c2ef8a3e7d04 424B / 424B                                                         0.0s\n",
    " => => sha256:2b1b17d5e5a2e35c8ff079eb8d54edb89a20ae1794e4c1f359f756d6b422d2c7 2.31kB / 2.31kB                                                     0.0s\n",
    " => => sha256:6e59cb05818e49ea83cbe79bd46eb80418dfe3cb3735b45570f93a23579e2cec 28.89MB / 28.89MB                                                   1.7s\n",
    " => => extracting sha256:6e59cb05818e49ea83cbe79bd46eb80418dfe3cb3735b45570f93a23579e2cec                                                          0.7s\n",
    " => [2/3] WORKDIR /DS6600_lab1                                                                                                                     0.1s\n",
    " => [3/3] RUN apt-get update && apt-get install -y python3                                                                                        10.9s\n",
    " => exporting to image                                                                                                                             0.2s\n",
    " => => exporting layers                                                                                                                            0.2s\n",
    " => => writing image sha256:cd80b03c15cdf5786a404080aae6fc0ef93ab19ca210b83cb94faa413ca9a42c                                                       0.0s\n",
    " => => naming to docker.io/library/lab1docker                                                                                                      0.0s\n",
    "\n",
    "What's next:\n",
    "    View a summary of image vulnerabilities and recommendations → docker scout quickview \n",
    "\n",
    "### c. run Docker container\n",
    "\n",
    "Python 3.12.3 (main, Sep 11 2024, 14:17:37) [GCC 13.2.0] on linux\n",
    "Type \"help\", \"copyright\", \"credits\" or \"license\" for more information.\n"
   ]
  },
  {
   "cell_type": "markdown",
   "id": "02b13e00",
   "metadata": {},
   "source": [
    "## question 6\n",
    "\n",
    "\"It is written in the Book of Anhur:\n",
    "After the Creation, the cruel god Moloch rebelled against the authority of Marduk the Creator. Moloch stole from Marduk the most powerful of all  the artifacts of the gods, the Amulet of Yendor, and he hid it in the dark cavities of Gehennom, the Under World, where he now lurks, and bides his time.Your god Anhur seeks to possess the Amulet, and with it   to gain deserved ascendance over the other gods.\n",
    "You, a newly trained Evoker, have been heralded from birth as the instrument of Anhur.  You are destined to recover the Amulet for your deity, or die in the attempt.  Your hour of destiny has come.  For the sake of us all:  Go bravely with Anhur!\n",
    "                                                                             --More--\""
   ]
  }
 ],
 "metadata": {
  "kernelspec": {
   "display_name": "Python 3 (ipykernel)",
   "language": "python",
   "name": "python3"
  },
  "language_info": {
   "codemirror_mode": {
    "name": "ipython",
    "version": 3
   },
   "file_extension": ".py",
   "mimetype": "text/x-python",
   "name": "python",
   "nbconvert_exporter": "python",
   "pygments_lexer": "ipython3",
   "version": "3.11.4"
  }
 },
 "nbformat": 4,
 "nbformat_minor": 5
}
